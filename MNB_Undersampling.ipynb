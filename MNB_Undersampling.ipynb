{
  "nbformat": 4,
  "nbformat_minor": 0,
  "metadata": {
    "colab": {
      "provenance": [],
      "authorship_tag": "ABX9TyMmZbRuRyIFFI0tHjYXWCta",
      "include_colab_link": true
    },
    "kernelspec": {
      "name": "python3",
      "display_name": "Python 3"
    },
    "language_info": {
      "name": "python"
    }
  },
  "cells": [
    {
      "cell_type": "markdown",
      "metadata": {
        "id": "view-in-github",
        "colab_type": "text"
      },
      "source": [
        "<a href=\"https://colab.research.google.com/github/salsaaakusuma/Analisis-Sentimen-SWOT/blob/main/MNB_Undersampling.ipynb\" target=\"_parent\"><img src=\"https://colab.research.google.com/assets/colab-badge.svg\" alt=\"Open In Colab\"/></a>"
      ]
    },
    {
      "cell_type": "code",
      "execution_count": null,
      "metadata": {
        "id": "nczdtUsScgRN"
      },
      "outputs": [],
      "source": [
        "import pandas as pd\n",
        "import numpy as np\n",
        "import matplotlib.pyplot as plt\n",
        "from sklearn.model_selection import train_test_split\n",
        "from sklearn.feature_extraction.text import CountVectorizer\n",
        "from sklearn.naive_bayes import MultinomialNB\n",
        "from sklearn.metrics import classification_report\n",
        "from imblearn.over_sampling import SMOTE\n",
        "from collections import Counter\n",
        "from imblearn.combine import SMOTETomek\n",
        "from sklearn.feature_extraction.text import TfidfVectorizer\n",
        "from sklearn.model_selection import GridSearchCV\n",
        "from sklearn.naive_bayes import MultinomialNB\n",
        "from sklearn.metrics import classification_report, confusion_matrix\n",
        "from imblearn.under_sampling import RandomUnderSampler\n",
        "from sklearn.pipeline import Pipeline"
      ]
    },
    {
      "cell_type": "code",
      "source": [
        "data = pd.read_csv('hasil_lablex.csv')\n",
        "\n",
        "data.head(5)"
      ],
      "metadata": {
        "colab": {
          "base_uri": "https://localhost:8080/",
          "height": 310
        },
        "id": "tx-a517en9QV",
        "outputId": "3ea35c8d-f9d0-4a5a-c3ed-5eed81bced78"
      },
      "execution_count": null,
      "outputs": [
        {
          "output_type": "execute_result",
          "data": {
            "text/plain": [
              "      ID       Username                                               Text  \\\n",
              "0  coc_1     sprintgkle  Clash of champions ini cast nya punya beragam ...   \n",
              "1  coc_2    coldzonkbie  gue suka bgt sm university war - terus gamau b...   \n",
              "2  coc_3        Q_Nyitt  UGM -&gt; Matematika -&gt; IPK 4.0 Kek nya ser...   \n",
              "3  coc_4  todayis__gaby  Clash of champions seru juga degdegannya ada b...   \n",
              "4  coc_5      yourjungx  abis nonton clash of champions terus champions...   \n",
              "\n",
              "     Created At                                          Cleansing  \\\n",
              "0  17 Juni 2024  Clash of champions ini cast nya punya beragam ...   \n",
              "1  17 Juni 2024  gue suka bgt sm university war terus gamau ber...   \n",
              "2  18 Juni 2024  UGM gt Matematika gt IPK Kek nya seru nih nont...   \n",
              "3  29 Juni 2024  Clash of champions seru juga degdegannya ada b...   \n",
              "4  29 Juni 2024  abis nonton clash of champions terus champions...   \n",
              "\n",
              "                                        Case_Folding  \\\n",
              "0  clash of champions ini cast nya punya beragam ...   \n",
              "1  gue suka bgt sm university war terus gamau ber...   \n",
              "2  ugm gt matematika gt ipk kek nya seru nih nont...   \n",
              "3  clash of champions seru juga degdegannya ada b...   \n",
              "4  abis nonton clash of champions terus champions...   \n",
              "\n",
              "                                     Normalized_Text  \\\n",
              "0  clash of champions ini cast nya punya beragam ...   \n",
              "1  saya suka banget sama university war terus tid...   \n",
              "2  ugm gitu matematika gitu ipk seperti nya seru ...   \n",
              "3  clash of champions seru juga degdegannya ada b...   \n",
              "4  habis menonton clash of champions terus champi...   \n",
              "\n",
              "                                          Tokenizing  \\\n",
              "0  ['clash', 'of', 'champions', 'ini', 'cast', 'n...   \n",
              "1  ['saya', 'suka', 'banget', 'sama', 'university...   \n",
              "2  ['ugm', 'gitu', 'matematika', 'gitu', 'ipk', '...   \n",
              "3  ['clash', 'of', 'champions', 'seru', 'juga', '...   \n",
              "4  ['habis', 'menonton', 'clash', 'of', 'champion...   \n",
              "\n",
              "                                            Stemming Sentiment  \n",
              "0  ['clash', 'of', 'champions', 'ini', 'cast', 'n...   Positif  \n",
              "1  ['saya', 'suka', 'banget', 'sama', 'university...   Positif  \n",
              "2  ['ugm', 'gitu', 'matematika', 'gitu', 'ipk', '...   Positif  \n",
              "3  ['clash', 'of', 'champions', 'seru', 'juga', '...   Positif  \n",
              "4  ['habis', 'tonton', 'clash', 'of', 'champions'...   Positif  "
            ],
            "text/html": [
              "\n",
              "  <div id=\"df-411615e5-3393-48e1-9d8b-d451bb9e6881\" class=\"colab-df-container\">\n",
              "    <div>\n",
              "<style scoped>\n",
              "    .dataframe tbody tr th:only-of-type {\n",
              "        vertical-align: middle;\n",
              "    }\n",
              "\n",
              "    .dataframe tbody tr th {\n",
              "        vertical-align: top;\n",
              "    }\n",
              "\n",
              "    .dataframe thead th {\n",
              "        text-align: right;\n",
              "    }\n",
              "</style>\n",
              "<table border=\"1\" class=\"dataframe\">\n",
              "  <thead>\n",
              "    <tr style=\"text-align: right;\">\n",
              "      <th></th>\n",
              "      <th>ID</th>\n",
              "      <th>Username</th>\n",
              "      <th>Text</th>\n",
              "      <th>Created At</th>\n",
              "      <th>Cleansing</th>\n",
              "      <th>Case_Folding</th>\n",
              "      <th>Normalized_Text</th>\n",
              "      <th>Tokenizing</th>\n",
              "      <th>Stemming</th>\n",
              "      <th>Sentiment</th>\n",
              "    </tr>\n",
              "  </thead>\n",
              "  <tbody>\n",
              "    <tr>\n",
              "      <th>0</th>\n",
              "      <td>coc_1</td>\n",
              "      <td>sprintgkle</td>\n",
              "      <td>Clash of champions ini cast nya punya beragam ...</td>\n",
              "      <td>17 Juni 2024</td>\n",
              "      <td>Clash of champions ini cast nya punya beragam ...</td>\n",
              "      <td>clash of champions ini cast nya punya beragam ...</td>\n",
              "      <td>clash of champions ini cast nya punya beragam ...</td>\n",
              "      <td>['clash', 'of', 'champions', 'ini', 'cast', 'n...</td>\n",
              "      <td>['clash', 'of', 'champions', 'ini', 'cast', 'n...</td>\n",
              "      <td>Positif</td>\n",
              "    </tr>\n",
              "    <tr>\n",
              "      <th>1</th>\n",
              "      <td>coc_2</td>\n",
              "      <td>coldzonkbie</td>\n",
              "      <td>gue suka bgt sm university war - terus gamau b...</td>\n",
              "      <td>17 Juni 2024</td>\n",
              "      <td>gue suka bgt sm university war terus gamau ber...</td>\n",
              "      <td>gue suka bgt sm university war terus gamau ber...</td>\n",
              "      <td>saya suka banget sama university war terus tid...</td>\n",
              "      <td>['saya', 'suka', 'banget', 'sama', 'university...</td>\n",
              "      <td>['saya', 'suka', 'banget', 'sama', 'university...</td>\n",
              "      <td>Positif</td>\n",
              "    </tr>\n",
              "    <tr>\n",
              "      <th>2</th>\n",
              "      <td>coc_3</td>\n",
              "      <td>Q_Nyitt</td>\n",
              "      <td>UGM -&amp;gt; Matematika -&amp;gt; IPK 4.0 Kek nya ser...</td>\n",
              "      <td>18 Juni 2024</td>\n",
              "      <td>UGM gt Matematika gt IPK Kek nya seru nih nont...</td>\n",
              "      <td>ugm gt matematika gt ipk kek nya seru nih nont...</td>\n",
              "      <td>ugm gitu matematika gitu ipk seperti nya seru ...</td>\n",
              "      <td>['ugm', 'gitu', 'matematika', 'gitu', 'ipk', '...</td>\n",
              "      <td>['ugm', 'gitu', 'matematika', 'gitu', 'ipk', '...</td>\n",
              "      <td>Positif</td>\n",
              "    </tr>\n",
              "    <tr>\n",
              "      <th>3</th>\n",
              "      <td>coc_4</td>\n",
              "      <td>todayis__gaby</td>\n",
              "      <td>Clash of champions seru juga degdegannya ada b...</td>\n",
              "      <td>29 Juni 2024</td>\n",
              "      <td>Clash of champions seru juga degdegannya ada b...</td>\n",
              "      <td>clash of champions seru juga degdegannya ada b...</td>\n",
              "      <td>clash of champions seru juga degdegannya ada b...</td>\n",
              "      <td>['clash', 'of', 'champions', 'seru', 'juga', '...</td>\n",
              "      <td>['clash', 'of', 'champions', 'seru', 'juga', '...</td>\n",
              "      <td>Positif</td>\n",
              "    </tr>\n",
              "    <tr>\n",
              "      <th>4</th>\n",
              "      <td>coc_5</td>\n",
              "      <td>yourjungx</td>\n",
              "      <td>abis nonton clash of champions terus champions...</td>\n",
              "      <td>29 Juni 2024</td>\n",
              "      <td>abis nonton clash of champions terus champions...</td>\n",
              "      <td>abis nonton clash of champions terus champions...</td>\n",
              "      <td>habis menonton clash of champions terus champi...</td>\n",
              "      <td>['habis', 'menonton', 'clash', 'of', 'champion...</td>\n",
              "      <td>['habis', 'tonton', 'clash', 'of', 'champions'...</td>\n",
              "      <td>Positif</td>\n",
              "    </tr>\n",
              "  </tbody>\n",
              "</table>\n",
              "</div>\n",
              "    <div class=\"colab-df-buttons\">\n",
              "\n",
              "  <div class=\"colab-df-container\">\n",
              "    <button class=\"colab-df-convert\" onclick=\"convertToInteractive('df-411615e5-3393-48e1-9d8b-d451bb9e6881')\"\n",
              "            title=\"Convert this dataframe to an interactive table.\"\n",
              "            style=\"display:none;\">\n",
              "\n",
              "  <svg xmlns=\"http://www.w3.org/2000/svg\" height=\"24px\" viewBox=\"0 -960 960 960\">\n",
              "    <path d=\"M120-120v-720h720v720H120Zm60-500h600v-160H180v160Zm220 220h160v-160H400v160Zm0 220h160v-160H400v160ZM180-400h160v-160H180v160Zm440 0h160v-160H620v160ZM180-180h160v-160H180v160Zm440 0h160v-160H620v160Z\"/>\n",
              "  </svg>\n",
              "    </button>\n",
              "\n",
              "  <style>\n",
              "    .colab-df-container {\n",
              "      display:flex;\n",
              "      gap: 12px;\n",
              "    }\n",
              "\n",
              "    .colab-df-convert {\n",
              "      background-color: #E8F0FE;\n",
              "      border: none;\n",
              "      border-radius: 50%;\n",
              "      cursor: pointer;\n",
              "      display: none;\n",
              "      fill: #1967D2;\n",
              "      height: 32px;\n",
              "      padding: 0 0 0 0;\n",
              "      width: 32px;\n",
              "    }\n",
              "\n",
              "    .colab-df-convert:hover {\n",
              "      background-color: #E2EBFA;\n",
              "      box-shadow: 0px 1px 2px rgba(60, 64, 67, 0.3), 0px 1px 3px 1px rgba(60, 64, 67, 0.15);\n",
              "      fill: #174EA6;\n",
              "    }\n",
              "\n",
              "    .colab-df-buttons div {\n",
              "      margin-bottom: 4px;\n",
              "    }\n",
              "\n",
              "    [theme=dark] .colab-df-convert {\n",
              "      background-color: #3B4455;\n",
              "      fill: #D2E3FC;\n",
              "    }\n",
              "\n",
              "    [theme=dark] .colab-df-convert:hover {\n",
              "      background-color: #434B5C;\n",
              "      box-shadow: 0px 1px 3px 1px rgba(0, 0, 0, 0.15);\n",
              "      filter: drop-shadow(0px 1px 2px rgba(0, 0, 0, 0.3));\n",
              "      fill: #FFFFFF;\n",
              "    }\n",
              "  </style>\n",
              "\n",
              "    <script>\n",
              "      const buttonEl =\n",
              "        document.querySelector('#df-411615e5-3393-48e1-9d8b-d451bb9e6881 button.colab-df-convert');\n",
              "      buttonEl.style.display =\n",
              "        google.colab.kernel.accessAllowed ? 'block' : 'none';\n",
              "\n",
              "      async function convertToInteractive(key) {\n",
              "        const element = document.querySelector('#df-411615e5-3393-48e1-9d8b-d451bb9e6881');\n",
              "        const dataTable =\n",
              "          await google.colab.kernel.invokeFunction('convertToInteractive',\n",
              "                                                    [key], {});\n",
              "        if (!dataTable) return;\n",
              "\n",
              "        const docLinkHtml = 'Like what you see? Visit the ' +\n",
              "          '<a target=\"_blank\" href=https://colab.research.google.com/notebooks/data_table.ipynb>data table notebook</a>'\n",
              "          + ' to learn more about interactive tables.';\n",
              "        element.innerHTML = '';\n",
              "        dataTable['output_type'] = 'display_data';\n",
              "        await google.colab.output.renderOutput(dataTable, element);\n",
              "        const docLink = document.createElement('div');\n",
              "        docLink.innerHTML = docLinkHtml;\n",
              "        element.appendChild(docLink);\n",
              "      }\n",
              "    </script>\n",
              "  </div>\n",
              "\n",
              "\n",
              "<div id=\"df-dfede1d8-cbeb-47a5-9f01-cbce56f425db\">\n",
              "  <button class=\"colab-df-quickchart\" onclick=\"quickchart('df-dfede1d8-cbeb-47a5-9f01-cbce56f425db')\"\n",
              "            title=\"Suggest charts\"\n",
              "            style=\"display:none;\">\n",
              "\n",
              "<svg xmlns=\"http://www.w3.org/2000/svg\" height=\"24px\"viewBox=\"0 0 24 24\"\n",
              "     width=\"24px\">\n",
              "    <g>\n",
              "        <path d=\"M19 3H5c-1.1 0-2 .9-2 2v14c0 1.1.9 2 2 2h14c1.1 0 2-.9 2-2V5c0-1.1-.9-2-2-2zM9 17H7v-7h2v7zm4 0h-2V7h2v10zm4 0h-2v-4h2v4z\"/>\n",
              "    </g>\n",
              "</svg>\n",
              "  </button>\n",
              "\n",
              "<style>\n",
              "  .colab-df-quickchart {\n",
              "      --bg-color: #E8F0FE;\n",
              "      --fill-color: #1967D2;\n",
              "      --hover-bg-color: #E2EBFA;\n",
              "      --hover-fill-color: #174EA6;\n",
              "      --disabled-fill-color: #AAA;\n",
              "      --disabled-bg-color: #DDD;\n",
              "  }\n",
              "\n",
              "  [theme=dark] .colab-df-quickchart {\n",
              "      --bg-color: #3B4455;\n",
              "      --fill-color: #D2E3FC;\n",
              "      --hover-bg-color: #434B5C;\n",
              "      --hover-fill-color: #FFFFFF;\n",
              "      --disabled-bg-color: #3B4455;\n",
              "      --disabled-fill-color: #666;\n",
              "  }\n",
              "\n",
              "  .colab-df-quickchart {\n",
              "    background-color: var(--bg-color);\n",
              "    border: none;\n",
              "    border-radius: 50%;\n",
              "    cursor: pointer;\n",
              "    display: none;\n",
              "    fill: var(--fill-color);\n",
              "    height: 32px;\n",
              "    padding: 0;\n",
              "    width: 32px;\n",
              "  }\n",
              "\n",
              "  .colab-df-quickchart:hover {\n",
              "    background-color: var(--hover-bg-color);\n",
              "    box-shadow: 0 1px 2px rgba(60, 64, 67, 0.3), 0 1px 3px 1px rgba(60, 64, 67, 0.15);\n",
              "    fill: var(--button-hover-fill-color);\n",
              "  }\n",
              "\n",
              "  .colab-df-quickchart-complete:disabled,\n",
              "  .colab-df-quickchart-complete:disabled:hover {\n",
              "    background-color: var(--disabled-bg-color);\n",
              "    fill: var(--disabled-fill-color);\n",
              "    box-shadow: none;\n",
              "  }\n",
              "\n",
              "  .colab-df-spinner {\n",
              "    border: 2px solid var(--fill-color);\n",
              "    border-color: transparent;\n",
              "    border-bottom-color: var(--fill-color);\n",
              "    animation:\n",
              "      spin 1s steps(1) infinite;\n",
              "  }\n",
              "\n",
              "  @keyframes spin {\n",
              "    0% {\n",
              "      border-color: transparent;\n",
              "      border-bottom-color: var(--fill-color);\n",
              "      border-left-color: var(--fill-color);\n",
              "    }\n",
              "    20% {\n",
              "      border-color: transparent;\n",
              "      border-left-color: var(--fill-color);\n",
              "      border-top-color: var(--fill-color);\n",
              "    }\n",
              "    30% {\n",
              "      border-color: transparent;\n",
              "      border-left-color: var(--fill-color);\n",
              "      border-top-color: var(--fill-color);\n",
              "      border-right-color: var(--fill-color);\n",
              "    }\n",
              "    40% {\n",
              "      border-color: transparent;\n",
              "      border-right-color: var(--fill-color);\n",
              "      border-top-color: var(--fill-color);\n",
              "    }\n",
              "    60% {\n",
              "      border-color: transparent;\n",
              "      border-right-color: var(--fill-color);\n",
              "    }\n",
              "    80% {\n",
              "      border-color: transparent;\n",
              "      border-right-color: var(--fill-color);\n",
              "      border-bottom-color: var(--fill-color);\n",
              "    }\n",
              "    90% {\n",
              "      border-color: transparent;\n",
              "      border-bottom-color: var(--fill-color);\n",
              "    }\n",
              "  }\n",
              "</style>\n",
              "\n",
              "  <script>\n",
              "    async function quickchart(key) {\n",
              "      const quickchartButtonEl =\n",
              "        document.querySelector('#' + key + ' button');\n",
              "      quickchartButtonEl.disabled = true;  // To prevent multiple clicks.\n",
              "      quickchartButtonEl.classList.add('colab-df-spinner');\n",
              "      try {\n",
              "        const charts = await google.colab.kernel.invokeFunction(\n",
              "            'suggestCharts', [key], {});\n",
              "      } catch (error) {\n",
              "        console.error('Error during call to suggestCharts:', error);\n",
              "      }\n",
              "      quickchartButtonEl.classList.remove('colab-df-spinner');\n",
              "      quickchartButtonEl.classList.add('colab-df-quickchart-complete');\n",
              "    }\n",
              "    (() => {\n",
              "      let quickchartButtonEl =\n",
              "        document.querySelector('#df-dfede1d8-cbeb-47a5-9f01-cbce56f425db button');\n",
              "      quickchartButtonEl.style.display =\n",
              "        google.colab.kernel.accessAllowed ? 'block' : 'none';\n",
              "    })();\n",
              "  </script>\n",
              "</div>\n",
              "\n",
              "    </div>\n",
              "  </div>\n"
            ],
            "application/vnd.google.colaboratory.intrinsic+json": {
              "type": "dataframe",
              "variable_name": "data",
              "summary": "{\n  \"name\": \"data\",\n  \"rows\": 1173,\n  \"fields\": [\n    {\n      \"column\": \"ID\",\n      \"properties\": {\n        \"dtype\": \"string\",\n        \"num_unique_values\": 1173,\n        \"samples\": [\n          \"coc_507\",\n          \"coc_221\",\n          \"coc_1044\"\n        ],\n        \"semantic_type\": \"\",\n        \"description\": \"\"\n      }\n    },\n    {\n      \"column\": \"Username\",\n      \"properties\": {\n        \"dtype\": \"string\",\n        \"num_unique_values\": 1125,\n        \"samples\": [\n          \"takino0506\",\n          \"curiousme88\",\n          \"ewsbdiv\"\n        ],\n        \"semantic_type\": \"\",\n        \"description\": \"\"\n      }\n    },\n    {\n      \"column\": \"Text\",\n      \"properties\": {\n        \"dtype\": \"string\",\n        \"num_unique_values\": 1168,\n        \"samples\": [\n          \"Iya euy rada kecewa. Walau saya pribadi penikmat matematika tapi ini sangat unfair karena namanya Clash of Champions tapi lebih pas dinamakan Clash of Math Champions. Tapi ya kalo ngejar view memang paling seru cara begini sih.\",\n          \"Rewatch ini dari awal lagi rasanya udah beda skrg udh tau sama semua anak2 nya malah makin seru they've come so far.. makin sayaaanggg #clashofchampions #coc #ruangguru #imkevin #sandyourheart #axelots #timsekop #yesaya #nabil #nandosedunia #govert #askIU https://t.co/sVJixrCloy\",\n          \"habis nonton clash of champions....kak shakira keren bgt...trus salfok...kak maxwelll medok bgt....\"\n        ],\n        \"semantic_type\": \"\",\n        \"description\": \"\"\n      }\n    },\n    {\n      \"column\": \"Created At\",\n      \"properties\": {\n        \"dtype\": \"category\",\n        \"num_unique_values\": 95,\n        \"samples\": [\n          \"12 September 2024\",\n          \"16 Juli 2024\",\n          \"17 September 2024\"\n        ],\n        \"semantic_type\": \"\",\n        \"description\": \"\"\n      }\n    },\n    {\n      \"column\": \"Cleansing\",\n      \"properties\": {\n        \"dtype\": \"string\",\n        \"num_unique_values\": 1163,\n        \"samples\": [\n          \"Gua kepikiran tim RRQ bikin konten kaya Clash of Champions Gak takut after affect bakalan kaya komun COC yg berisik dan alay Kagak sih ntar mereka bisa dibacotin fans gamers lama langsung kalem\",\n          \"Dear tim clash of champions semoga ga kepikiran buat tambah drama atau evil editing ya plis bngtt ini mahhh acaranya sendiri udh seru kokkk\",\n          \"jir demi apapun clash of champions ruang guru seru bgt\"\n        ],\n        \"semantic_type\": \"\",\n        \"description\": \"\"\n      }\n    },\n    {\n      \"column\": \"Case_Folding\",\n      \"properties\": {\n        \"dtype\": \"string\",\n        \"num_unique_values\": 1161,\n        \"samples\": [\n          \"clash of champions jadiin program tahunan please seru bnget\",\n          \"clash of champions seru banget anjir wkwkw agak nangis pas liat kok orang bisa pinter bangett ikut kerjuaraan math dll dll like w ngapain aja dah idup wkwkwk\",\n          \"moots kalian nonton clash of champions engga suka bgt sama kevin pls\"\n        ],\n        \"semantic_type\": \"\",\n        \"description\": \"\"\n      }\n    },\n    {\n      \"column\": \"Normalized_Text\",\n      \"properties\": {\n        \"dtype\": \"string\",\n        \"num_unique_values\": 1149,\n        \"samples\": [\n          \"sungguh baru kali ini menonton ajang kompetisi versi indonesia yang seru dan masuk ke list saya clash of champions tidak nyangka bisa se seru ini ada yang sama kah\",\n          \"temen saya pada saya suruh menonton clash of champions biar saya tidak insecure sendirian\",\n          \"habis selesai menonton episode clash of champions awalnya tidak tertarik soalnya mikir fomo doang karna acara sebelumnya wou kan viral ya tapi ternyata diluar ekspektasi seru bangeeet jadi berharap semoga di indonesia makin banyak acara seperti gini biar memotivasi anak indonesia lainnya\"\n        ],\n        \"semantic_type\": \"\",\n        \"description\": \"\"\n      }\n    },\n    {\n      \"column\": \"Tokenizing\",\n      \"properties\": {\n        \"dtype\": \"string\",\n        \"num_unique_values\": 1149,\n        \"samples\": [\n          \"['sungguh', 'baru', 'kali', 'ini', 'menonton', 'ajang', 'kompetisi', 'versi', 'indonesia', 'yang', 'seru', 'dan', 'masuk', 'ke', 'list', 'saya', 'clash', 'of', 'champions', 'tidak', 'nyangka', 'bisa', 'se', 'seru', 'ini', 'ada', 'yang', 'sama', 'kah']\",\n          \"['temen', 'saya', 'pada', 'saya', 'suruh', 'menonton', 'clash', 'of', 'champions', 'biar', 'saya', 'tidak', 'insecure', 'sendirian']\",\n          \"['habis', 'selesai', 'menonton', 'episode', 'clash', 'of', 'champions', 'awalnya', 'tidak', 'tertarik', 'soalnya', 'mikir', 'fomo', 'doang', 'karna', 'acara', 'sebelumnya', 'wou', 'kan', 'viral', 'ya', 'tapi', 'ternyata', 'diluar', 'ekspektasi', 'seru', 'bangeeet', 'jadi', 'berharap', 'semoga', 'di', 'indonesia', 'makin', 'banyak', 'acara', 'seperti', 'gini', 'biar', 'memotivasi', 'anak', 'indonesia', 'lainnya']\"\n        ],\n        \"semantic_type\": \"\",\n        \"description\": \"\"\n      }\n    },\n    {\n      \"column\": \"Stemming\",\n      \"properties\": {\n        \"dtype\": \"string\",\n        \"num_unique_values\": 1148,\n        \"samples\": [\n          \"['saya', 'lagi', 'tidak', 'tahu', 'ingin', 'tonton', 'apa', 'eh', 'iseng', 'lihat', 'clash', 'of', 'champions', 'seru', 'juga', 'haha', 'walau', 'ikut', 'pusing', 'dan', 'minder', 'kenapa', 'adek', 'ini', 'pintar', 'banget', 'hiks', 'apa', 'saya', 'wkwk', 'kaya', 'university', 'war', 'begitu', 'ya', 'kalau', 'tidak', 'salah']\",\n          \"['aakkkk', 'seru', 'banget', 'clash', 'of', 'champions', 'gila', 'semua', 'si', 'otak']\",\n          \"['baru', 'tonton', 'rangguru', 'clash', 'of', 'champions', 'nyata', 'seru', 'banget', 'masya', 'allah', 'anakanak', 'indonesia', 'hebat', 'tidak', 'nyangka', 'ada', 'acara', 'keren', 'ini']\"\n        ],\n        \"semantic_type\": \"\",\n        \"description\": \"\"\n      }\n    },\n    {\n      \"column\": \"Sentiment\",\n      \"properties\": {\n        \"dtype\": \"category\",\n        \"num_unique_values\": 2,\n        \"samples\": [\n          \"Negatif\",\n          \"Positif\"\n        ],\n        \"semantic_type\": \"\",\n        \"description\": \"\"\n      }\n    }\n  ]\n}"
            }
          },
          "metadata": {},
          "execution_count": 102
        }
      ]
    },
    {
      "cell_type": "code",
      "source": [
        "class_counts = data['Sentiment'].value_counts()\n",
        "print(f\"Distribusi Data:\\n{class_counts}\")\n",
        "\n",
        "class_counts.plot(kind='bar', title='Distribusi Sentiment')\n",
        "plt.ylabel('Jumlah')\n",
        "plt.xlabel('Sentiment')\n",
        "plt.show()"
      ],
      "metadata": {
        "colab": {
          "base_uri": "https://localhost:8080/",
          "height": 595
        },
        "id": "5RXN5LesoJyl",
        "outputId": "e9f33e24-b47f-468c-da1f-5ddd36df92fe"
      },
      "execution_count": null,
      "outputs": [
        {
          "output_type": "stream",
          "name": "stdout",
          "text": [
            "Distribusi Data:\n",
            "Sentiment\n",
            "Positif    1010\n",
            "Negatif     163\n",
            "Name: count, dtype: int64\n"
          ]
        },
        {
          "output_type": "display_data",
          "data": {
            "text/plain": [
              "<Figure size 640x480 with 1 Axes>"
            ],
            "image/png": "[encoded data removed]"
          },
          "metadata": {}
        }
      ]
    },
    {
      "cell_type": "code",
      "source": [
        "balance_ratio = class_counts.min() / class_counts.max()\n",
        "print(f\"Balance Ratio: {balance_ratio:.2f}\")"
      ],
      "metadata": {
        "colab": {
          "base_uri": "https://localhost:8080/"
        },
        "id": "TLw67j5RoSLs",
        "outputId": "19823793-fdfb-4036-e6ab-c213832d86af"
      },
      "execution_count": null,
      "outputs": [
        {
          "output_type": "stream",
          "name": "stdout",
          "text": [
            "Balance Ratio: 0.16\n"
          ]
        }
      ]
    },
    {
      "cell_type": "code",
      "source": [
        "X = data['Stemming']\n",
        "y = data['Sentiment']\n",
        "\n",
        "vectorizer = TfidfVectorizer()\n",
        "X_vectorized = vectorizer.fit_transform(X)"
      ],
      "metadata": {
        "id": "TAlDfdLeGdyi"
      },
      "execution_count": null,
      "outputs": []
    },
    {
      "cell_type": "code",
      "source": [
        "undersampler = RandomUnderSampler(sampling_strategy='auto')\n",
        "X_resampled, y_resampled = undersampler.fit_resample(X_vectorized, y)"
      ],
      "metadata": {
        "id": "6ZyeGyPsOC8U",
        "colab": {
          "base_uri": "https://localhost:8080/"
        },
        "outputId": "1b124a86-349a-496c-b5a4-e914b5fc7dbf"
      },
      "execution_count": null,
      "outputs": [
        {
          "output_type": "stream",
          "name": "stderr",
          "text": [
            "/usr/local/lib/python3.10/dist-packages/sklearn/utils/deprecation.py:151: FutureWarning: 'force_all_finite' was renamed to 'ensure_all_finite' in 1.6 and will be removed in 1.8.\n",
            "  warnings.warn(\n",
            "/usr/local/lib/python3.10/dist-packages/sklearn/base.py:484: FutureWarning: `BaseEstimator._check_n_features` is deprecated in 1.6 and will be removed in 1.7. Use `sklearn.utils.validation._check_n_features` instead.\n",
            "  warnings.warn(\n",
            "/usr/local/lib/python3.10/dist-packages/sklearn/base.py:493: FutureWarning: `BaseEstimator._check_feature_names` is deprecated in 1.6 and will be removed in 1.7. Use `sklearn.utils.validation._check_feature_names` instead.\n",
            "  warnings.warn(\n"
          ]
        }
      ]
    },
    {
      "cell_type": "code",
      "source": [
        "X_train, X_test, y_train, y_test = train_test_split(X_resampled, y_resampled, test_size=0.1)"
      ],
      "metadata": {
        "id": "ViGtz1piOJaq"
      },
      "execution_count": null,
      "outputs": []
    },
    {
      "cell_type": "code",
      "source": [
        "print(f\"Jumlah data latih: {X_train.shape[0]}\")\n",
        "print(f\"Jumlah data uji: {X_test.shape[0]}\")\n",
        "print(f\"Perbandingan data latih:uji = {X_train.shape[0]}:{X_test.shape[0]}\")"
      ],
      "metadata": {
        "colab": {
          "base_uri": "https://localhost:8080/"
        },
        "id": "naQY1m1LFEbo",
        "outputId": "04567115-b4ec-492e-b5b3-b031b0f9d8a3"
      },
      "execution_count": null,
      "outputs": [
        {
          "output_type": "stream",
          "name": "stdout",
          "text": [
            "Jumlah data latih: 293\n",
            "Jumlah data uji: 33\n",
            "Perbandingan data latih:uji = 293:33\n"
          ]
        }
      ]
    },
    {
      "cell_type": "code",
      "source": [
        "model = MultinomialNB()\n",
        "model.fit(X_train, y_train)\n",
        "\n",
        "y_pred = model.predict(X_test)\n",
        "\n",
        "print(\"Classification Report:\")\n",
        "print(classification_report(y_test, y_pred))"
      ],
      "metadata": {
        "colab": {
          "base_uri": "https://localhost:8080/"
        },
        "id": "UHfdYqi5ONin",
        "outputId": "550bb450-ac22-42d9-9c96-e62f9aeee0a9"
      },
      "execution_count": null,
      "outputs": [
        {
          "output_type": "stream",
          "name": "stdout",
          "text": [
            "Classification Report:\n",
            "              precision    recall  f1-score   support\n",
            "\n",
            "     Negatif       0.93      1.00      0.96        13\n",
            "     Positif       1.00      0.95      0.97        20\n",
            "\n",
            "    accuracy                           0.97        33\n",
            "   macro avg       0.96      0.97      0.97        33\n",
            "weighted avg       0.97      0.97      0.97        33\n",
            "\n"
          ]
        }
      ]
    },
    {
      "cell_type": "code",
      "source": [
        "import matplotlib.pyplot as plt\n",
        "import seaborn as sns\n",
        "from sklearn.metrics import confusion_matrix\n",
        "\n",
        "cm = confusion_matrix(y_test, y_pred, labels=model.classes_)\n",
        "\n",
        "cm_df = pd.DataFrame(cm, index=model.classes_, columns=model.classes_)\n",
        "\n",
        "plt.figure(figsize=(8, 6))\n",
        "sns.heatmap(cm_df, annot=True, fmt='d', cmap='Blues', cbar=False)\n",
        "plt.title(\"Confusion Matrix\")\n",
        "plt.xlabel(\"Predicted Label\")\n",
        "plt.ylabel(\"True Label\")\n",
        "plt.show()"
      ],
      "metadata": {
        "colab": {
          "base_uri": "https://localhost:8080/",
          "height": 564
        },
        "id": "00u2zsGcH5Jy",
        "outputId": "94bd71d3-6cb5-42c0-f386-d8d57f27b4f8"
      },
      "execution_count": null,
      "outputs": [
        {
          "output_type": "display_data",
          "data": {
            "text/plain": [
              "<Figure size 800x600 with 1 Axes>"
            ],
            "image/png": "[encoded data removed]"
          },
          "metadata": {}
        }
      ]
    },
    {
      "cell_type": "code",
      "source": [],
      "metadata": {
        "id": "W3Y3Rm_iJVep"
      },
      "execution_count": null,
      "outputs": []
    }
  ]
}